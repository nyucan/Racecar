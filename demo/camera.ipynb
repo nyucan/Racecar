{
 "cells": [
  {
   "cell_type": "markdown",
   "metadata": {},
   "source": [
    "## Test the camera and estimate fps\n",
    "\n",
    "reference: \n",
    "  - http://www.1zlab.com/wiki/python-opencv-tutorial/opencv-read-usb-camera-image/\n",
    "  - https://www.learnopencv.com/how-to-find-frame-rate-or-frames-per-second-fps-in-opencv-python-cpp/"
   ]
  },
  {
   "cell_type": "code",
   "execution_count": 21,
   "metadata": {},
   "outputs": [],
   "source": [
    "import numpy as np\n",
    "import cv2\n",
    "import time"
   ]
  },
  {
   "cell_type": "code",
   "execution_count": 22,
   "metadata": {},
   "outputs": [],
   "source": [
    "test_resolution = (640, 480)  # 33.15\n",
    "# test_resolution = (800, 600)   # 21.82\n",
    "# test_resolution = (1280, 1024)   # 8.39"
   ]
  },
  {
   "cell_type": "code",
   "execution_count": 23,
   "metadata": {},
   "outputs": [
    {
     "name": "stdout",
     "output_type": "stream",
     "text": [
      "camera is open: True\n",
      "set resolution to 640 x 480\n",
      "Capturing 200 frames\n",
      "Time taken : 6.107020616531372 seconds\n",
      "Estimated frames per second : 32.7491935197682\n"
     ]
    }
   ],
   "source": [
    "cap = cv2.VideoCapture(0, cv2.CAP_GSTREAMER)\n",
    "print(f'camera is open: {cap.isOpened()}')\n",
    "\n",
    "cap.set(cv2.CAP_PROP_FRAME_WIDTH, test_resolution[0])\n",
    "cap.set(cv2.CAP_PROP_FRAME_HEIGHT, test_resolution[1])\n",
    "print(f'set resolution to {test_resolution[0]} x {test_resolution[1]}')\n",
    "\n",
    "cv2.namedWindow('usbcam')\n",
    "\n",
    "# Number of frames to capture\n",
    "num_frames = 200\n",
    "print(f'Capturing {num_frames} frames')\n",
    "\n",
    "# Start time\n",
    "start = time.time()\n",
    "\n",
    "# Grab a few frames\n",
    "for i in range(0, num_frames):\n",
    "    ret, frame = cap.read()\n",
    "    cv2.imshow('usbcam', frame)\n",
    "    key = cv2.waitKey(1)\n",
    "\n",
    "# Time elapsed\n",
    "seconds = time.time() - start\n",
    "print(f'Time taken : {seconds} seconds')\n",
    "\n",
    "# Calculate frames per second\n",
    "fps  = num_frames / seconds\n",
    "print(f'Estimated frames per second : {fps}')\n",
    "\n",
    "# Release video\n",
    "cap.release()\n",
    "cv2.destroyAllWindows()"
   ]
  },
  {
   "cell_type": "code",
   "execution_count": null,
   "metadata": {},
   "outputs": [],
   "source": []
  }
 ],
 "metadata": {
  "kernelspec": {
   "display_name": "Python 3",
   "language": "python",
   "name": "python3"
  },
  "language_info": {
   "codemirror_mode": {
    "name": "ipython",
    "version": 3
   },
   "file_extension": ".py",
   "mimetype": "text/x-python",
   "name": "python",
   "nbconvert_exporter": "python",
   "pygments_lexer": "ipython3",
   "version": "3.6.9"
  }
 },
 "nbformat": 4,
 "nbformat_minor": 4
}
