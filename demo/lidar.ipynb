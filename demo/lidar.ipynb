{
 "cells": [
  {
   "cell_type": "code",
   "execution_count": 1,
   "metadata": {},
   "outputs": [],
   "source": [
    "import PyLidar3"
   ]
  },
  {
   "cell_type": "code",
   "execution_count": 2,
   "metadata": {},
   "outputs": [
    {
     "name": "stdout",
     "output_type": "stream",
     "text": [
      "{'model_number': '5', 'firmware_version': '2.33', 'hardware_version': '2', 'serial_number': '201909260'}\n",
      "6.5\n",
      "6.6\n",
      "5.6\n"
     ]
    }
   ],
   "source": [
    "port = '/dev/ttyUSB0'  # the serial port for the lidar\n",
    "\n",
    "Obj = PyLidar3.YdLidarG4(port)\n",
    "if (Obj.Connect()):\n",
    "    print(Obj.GetDeviceInfo())\n",
    "    print(Obj.GetCurrentFrequency())\n",
    "    Obj.IncreaseCurrentFrequency(PyLidar3.FrequencyStep.oneTenthHertz)\n",
    "    print(Obj.GetCurrentFrequency())\n",
    "    Obj.DecreaseCurrentFrequency(PyLidar3.FrequencyStep.oneHertz)\n",
    "    print(Obj.GetCurrentFrequency())\n",
    "    Obj.Disconnect()\n",
    "else:\n",
    "    print(\"Error connecting to device\")"
   ]
  },
  {
   "cell_type": "code",
   "execution_count": null,
   "metadata": {},
   "outputs": [],
   "source": []
  }
 ],
 "metadata": {
  "kernelspec": {
   "display_name": "Python 3",
   "language": "python",
   "name": "python3"
  },
  "language_info": {
   "codemirror_mode": {
    "name": "ipython",
    "version": 3
   },
   "file_extension": ".py",
   "mimetype": "text/x-python",
   "name": "python",
   "nbconvert_exporter": "python",
   "pygments_lexer": "ipython3",
   "version": "3.6.9"
  }
 },
 "nbformat": 4,
 "nbformat_minor": 4
}
