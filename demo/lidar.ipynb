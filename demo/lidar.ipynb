{
 "cells": [
  {
   "cell_type": "code",
   "execution_count": 17,
   "metadata": {},
   "outputs": [],
   "source": [
    "import PyLidar3\n",
    "import time\n",
    "import math\n",
    "import matplotlib.pyplot as plt"
   ]
  },
  {
   "cell_type": "code",
   "execution_count": 54,
   "metadata": {},
   "outputs": [],
   "source": [
    "def draw(x, y):\n",
    "    plt.figure(1)\n",
    "    plt.cla()\n",
    "    plt.ylim(-12000, 12000)\n",
    "    plt.xlim(-12000, 12000)\n",
    "    plt.scatter(x, y, c='r', s=8)\n",
    "    plt.pause(0.001)"
   ]
  },
  {
   "cell_type": "code",
   "execution_count": 35,
   "metadata": {},
   "outputs": [],
   "source": [
    "lidar.StopScanning()\n",
    "lidar.Disconnect()"
   ]
  },
  {
   "cell_type": "code",
   "execution_count": 55,
   "metadata": {},
   "outputs": [
    {
     "name": "stdout",
     "output_type": "stream",
     "text": [
      "Lidar connected\n",
      "{'model_number': '5', 'firmware_version': '2.33', 'hardware_version': '2', 'serial_number': '201909260'}\n",
      "Current frequency is: 10.4\n"
     ]
    },
    {
     "data": {
      "image/png": "[encoded data removed]",
      "text/plain": [
       "<Figure size 432x288 with 1 Axes>"
      ]
     },
     "metadata": {
      "needs_background": "light"
     },
     "output_type": "display_data"
    }
   ],
   "source": [
    "port = '/dev/ttyUSB1'  # the serial port for the lidar\n",
    "\n",
    "# init\n",
    "lidar = PyLidar3.YdLidarG4(port)\n",
    "x, y = [], []\n",
    "for _ in range(360):\n",
    "    x.append(0)\n",
    "    y.append(0)\n",
    "\n",
    "try:\n",
    "    if (lidar.Connect()):\n",
    "        print('Lidar connected')\n",
    "        print(lidar.GetDeviceInfo())\n",
    "        print(f'Current frequency is: {lidar.GetCurrentFrequency()}')\n",
    "\n",
    "        # begin testing\n",
    "        gen = lidar.StartScanning()\n",
    "        t = time.time() # start time \n",
    "        while (time.time() - t) < 10: #scan for 30 seconds\n",
    "            data = next(gen)\n",
    "            for angle in range(0, 360):\n",
    "                if (data[angle] > 1000):\n",
    "                    x[angle] = data[angle] * math.cos(math.radians(angle))\n",
    "                    y[angle] = data[angle] * math.sin(math.radians(angle))\n",
    "            time.sleep(0.5)\n",
    "        draw(x, y)\n",
    "        lidar.StopScanning()\n",
    "        lidar.Disconnect()\n",
    "        plt.close('all')\n",
    "    else:\n",
    "        print('Device not found')\n",
    "except Exception as e:\n",
    "    print('caught an exception:')\n",
    "    print(e)\n",
    "    lidar.StopScanning()\n",
    "    lidar.Disconnect()"
   ]
  },
  {
   "cell_type": "code",
   "execution_count": null,
   "metadata": {},
   "outputs": [],
   "source": []
  }
 ],
 "metadata": {
  "kernelspec": {
   "display_name": "Python 3",
   "language": "python",
   "name": "python3"
  },
  "language_info": {
   "codemirror_mode": {
    "name": "ipython",
    "version": 3
   },
   "file_extension": ".py",
   "mimetype": "text/x-python",
   "name": "python",
   "nbconvert_exporter": "python",
   "pygments_lexer": "ipython3",
   "version": "3.6.9"
  }
 },
 "nbformat": 4,
 "nbformat_minor": 4
}
